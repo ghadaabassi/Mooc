{
 "cells": [
  {
   "cell_type": "code",
   "execution_count": 4,
   "metadata": {},
   "outputs": [
    {
     "name": "stdout",
     "output_type": "stream",
     "text": [
      "Connected\n"
     ]
    },
    {
     "name": "stderr",
     "output_type": "stream",
     "text": [
      "C:\\Users\\Ghada\\AppData\\Local\\Temp\\ipykernel_29188\\3580032020.py:49: DeprecationWarning: write_transaction has been renamed to execute_write\n",
      "  session.write_transaction(create_universities, universities_data)\n",
      "C:\\Users\\Ghada\\AppData\\Local\\Temp\\ipykernel_29188\\3580032020.py:50: DeprecationWarning: write_transaction has been renamed to execute_write\n",
      "  session.write_transaction(create_courses, courses_data)\n"
     ]
    }
   ],
   "source": [
    "from neo4j import GraphDatabase\n",
    "import pandas as pd\n",
    "\n",
    "\n",
    "def read_csv(csv_file):\n",
    "    data = pd.read_csv(csv_file)\n",
    "    return data.to_dict(orient='records')\n",
    "\n",
    "def import_data_to_neo4j(uri, username, password, universities_csv, courses_csv):\n",
    "    driver = GraphDatabase.driver(uri, auth=(username, password))\n",
    "    print(\"Connected\")\n",
    "\n",
    "    universities_data = read_csv(universities_csv)\n",
    "\n",
    "    university_query = \"\"\"\n",
    "    UNWIND $data as row\n",
    "    MERGE (u:University {id: row.id})\n",
    "    SET u.name = row.name,\n",
    "        u.country = row.country\n",
    "    \"\"\"\n",
    "\n",
    "    def create_universities(tx, universities_data):\n",
    "        tx.run(university_query, data=universities_data)\n",
    "\n",
    "    courses_data = read_csv(courses_csv)\n",
    "\n",
    "    course_query = \"\"\"\n",
    "    UNWIND $data as row\n",
    "    MATCH (u:University {id: row.uni})\n",
    "    MERGE (c:Course {id: row.id})\n",
    "    SET c.name = row.name,\n",
    "        c.year = row.year,\n",
    "        c.semester = row.semester\n",
    "    MERGE (c)-[:BELONGS_TO]->(u)\n",
    "    \"\"\"\n",
    "\n",
    "    def create_courses(tx, courses_data):\n",
    "        tx.run(course_query, data=courses_data)\n",
    "\n",
    "    with driver.session() as session:\n",
    "        session.write_transaction(create_universities, universities_data)\n",
    "        session.write_transaction(create_courses, courses_data)\n",
    "\n",
    "    driver.close()\n",
    "\n",
    "uri = \"bolt://localhost:7687\"\n",
    "username = \"neo4j\"\n",
    "password = \"12345678\"\n",
    "\n",
    "\n",
    "universities_csv = \"univ.csv\"\n",
    "courses_csv = \"course.csv\"\n",
    "\n",
    "import_data_to_neo4j(uri, username, password, universities_csv, courses_csv)\n"
   ]
  }
 ],
 "metadata": {
  "kernelspec": {
   "display_name": "Python 3",
   "language": "python",
   "name": "python3"
  },
  "language_info": {
   "codemirror_mode": {
    "name": "ipython",
    "version": 3
   },
   "file_extension": ".py",
   "mimetype": "text/x-python",
   "name": "python",
   "nbconvert_exporter": "python",
   "pygments_lexer": "ipython3",
   "version": "3.11.4"
  }
 },
 "nbformat": 4,
 "nbformat_minor": 2
}
